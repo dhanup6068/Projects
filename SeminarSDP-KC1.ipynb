{
 "cells": [
  {
   "cell_type": "code",
   "execution_count": 1,
   "metadata": {},
   "outputs": [
    {
     "data": {
      "text/html": [
       "<div>\n",
       "<style scoped>\n",
       "    .dataframe tbody tr th:only-of-type {\n",
       "        vertical-align: middle;\n",
       "    }\n",
       "\n",
       "    .dataframe tbody tr th {\n",
       "        vertical-align: top;\n",
       "    }\n",
       "\n",
       "    .dataframe thead th {\n",
       "        text-align: right;\n",
       "    }\n",
       "</style>\n",
       "<table border=\"1\" class=\"dataframe\">\n",
       "  <thead>\n",
       "    <tr style=\"text-align: right;\">\n",
       "      <th></th>\n",
       "      <th>log</th>\n",
       "      <th>v(g)</th>\n",
       "      <th>ev(g)</th>\n",
       "      <th>iv(g)</th>\n",
       "      <th>n</th>\n",
       "      <th>v</th>\n",
       "      <th>l</th>\n",
       "      <th>d</th>\n",
       "      <th>i</th>\n",
       "      <th>e</th>\n",
       "      <th>...</th>\n",
       "      <th>10Code</th>\n",
       "      <th>10Comment</th>\n",
       "      <th>10Blank</th>\n",
       "      <th>10CodeAndComment</th>\n",
       "      <th>uniq_op</th>\n",
       "      <th>uniq_Opnd</th>\n",
       "      <th>total_op</th>\n",
       "      <th>total_Opnd</th>\n",
       "      <th>branchCount</th>\n",
       "      <th>defectprone</th>\n",
       "    </tr>\n",
       "  </thead>\n",
       "  <tbody>\n",
       "    <tr>\n",
       "      <td>0</td>\n",
       "      <td>1.1</td>\n",
       "      <td>1.4</td>\n",
       "      <td>1.4</td>\n",
       "      <td>1.4</td>\n",
       "      <td>1.3</td>\n",
       "      <td>1.30</td>\n",
       "      <td>1.30</td>\n",
       "      <td>1.30</td>\n",
       "      <td>1.30</td>\n",
       "      <td>1.30</td>\n",
       "      <td>...</td>\n",
       "      <td>2.0</td>\n",
       "      <td>2.0</td>\n",
       "      <td>2.0</td>\n",
       "      <td>2.0</td>\n",
       "      <td>1.2</td>\n",
       "      <td>1.2</td>\n",
       "      <td>1.2</td>\n",
       "      <td>1.2</td>\n",
       "      <td>1.4</td>\n",
       "      <td>False</td>\n",
       "    </tr>\n",
       "    <tr>\n",
       "      <td>1</td>\n",
       "      <td>1.0</td>\n",
       "      <td>1.0</td>\n",
       "      <td>1.0</td>\n",
       "      <td>1.0</td>\n",
       "      <td>1.0</td>\n",
       "      <td>1.00</td>\n",
       "      <td>1.00</td>\n",
       "      <td>1.00</td>\n",
       "      <td>1.00</td>\n",
       "      <td>1.00</td>\n",
       "      <td>...</td>\n",
       "      <td>1.0</td>\n",
       "      <td>1.0</td>\n",
       "      <td>1.0</td>\n",
       "      <td>1.0</td>\n",
       "      <td>1.0</td>\n",
       "      <td>1.0</td>\n",
       "      <td>1.0</td>\n",
       "      <td>1.0</td>\n",
       "      <td>1.0</td>\n",
       "      <td>True</td>\n",
       "    </tr>\n",
       "    <tr>\n",
       "      <td>2</td>\n",
       "      <td>83.0</td>\n",
       "      <td>11.0</td>\n",
       "      <td>1.0</td>\n",
       "      <td>11.0</td>\n",
       "      <td>171.0</td>\n",
       "      <td>927.89</td>\n",
       "      <td>0.04</td>\n",
       "      <td>23.04</td>\n",
       "      <td>40.27</td>\n",
       "      <td>21378.61</td>\n",
       "      <td>...</td>\n",
       "      <td>65.0</td>\n",
       "      <td>10.0</td>\n",
       "      <td>6.0</td>\n",
       "      <td>0.0</td>\n",
       "      <td>18.0</td>\n",
       "      <td>25.0</td>\n",
       "      <td>107.0</td>\n",
       "      <td>64.0</td>\n",
       "      <td>21.0</td>\n",
       "      <td>True</td>\n",
       "    </tr>\n",
       "    <tr>\n",
       "      <td>3</td>\n",
       "      <td>46.0</td>\n",
       "      <td>8.0</td>\n",
       "      <td>6.0</td>\n",
       "      <td>8.0</td>\n",
       "      <td>141.0</td>\n",
       "      <td>769.78</td>\n",
       "      <td>0.07</td>\n",
       "      <td>14.86</td>\n",
       "      <td>51.81</td>\n",
       "      <td>11436.73</td>\n",
       "      <td>...</td>\n",
       "      <td>37.0</td>\n",
       "      <td>2.0</td>\n",
       "      <td>5.0</td>\n",
       "      <td>0.0</td>\n",
       "      <td>16.0</td>\n",
       "      <td>28.0</td>\n",
       "      <td>89.0</td>\n",
       "      <td>52.0</td>\n",
       "      <td>15.0</td>\n",
       "      <td>True</td>\n",
       "    </tr>\n",
       "    <tr>\n",
       "      <td>4</td>\n",
       "      <td>25.0</td>\n",
       "      <td>3.0</td>\n",
       "      <td>1.0</td>\n",
       "      <td>3.0</td>\n",
       "      <td>58.0</td>\n",
       "      <td>254.75</td>\n",
       "      <td>0.11</td>\n",
       "      <td>9.35</td>\n",
       "      <td>27.25</td>\n",
       "      <td>2381.95</td>\n",
       "      <td>...</td>\n",
       "      <td>21.0</td>\n",
       "      <td>0.0</td>\n",
       "      <td>2.0</td>\n",
       "      <td>0.0</td>\n",
       "      <td>11.0</td>\n",
       "      <td>10.0</td>\n",
       "      <td>41.0</td>\n",
       "      <td>17.0</td>\n",
       "      <td>5.0</td>\n",
       "      <td>True</td>\n",
       "    </tr>\n",
       "    <tr>\n",
       "      <td>5</td>\n",
       "      <td>43.0</td>\n",
       "      <td>3.0</td>\n",
       "      <td>1.0</td>\n",
       "      <td>3.0</td>\n",
       "      <td>115.0</td>\n",
       "      <td>569.73</td>\n",
       "      <td>0.09</td>\n",
       "      <td>11.27</td>\n",
       "      <td>50.53</td>\n",
       "      <td>6423.73</td>\n",
       "      <td>...</td>\n",
       "      <td>35.0</td>\n",
       "      <td>2.0</td>\n",
       "      <td>4.0</td>\n",
       "      <td>0.0</td>\n",
       "      <td>11.0</td>\n",
       "      <td>20.0</td>\n",
       "      <td>74.0</td>\n",
       "      <td>41.0</td>\n",
       "      <td>5.0</td>\n",
       "      <td>True</td>\n",
       "    </tr>\n",
       "    <tr>\n",
       "      <td>6</td>\n",
       "      <td>48.0</td>\n",
       "      <td>6.0</td>\n",
       "      <td>1.0</td>\n",
       "      <td>6.0</td>\n",
       "      <td>149.0</td>\n",
       "      <td>751.61</td>\n",
       "      <td>0.06</td>\n",
       "      <td>15.43</td>\n",
       "      <td>48.72</td>\n",
       "      <td>11596.34</td>\n",
       "      <td>...</td>\n",
       "      <td>41.0</td>\n",
       "      <td>2.0</td>\n",
       "      <td>2.0</td>\n",
       "      <td>0.0</td>\n",
       "      <td>12.0</td>\n",
       "      <td>21.0</td>\n",
       "      <td>95.0</td>\n",
       "      <td>54.0</td>\n",
       "      <td>11.0</td>\n",
       "      <td>True</td>\n",
       "    </tr>\n",
       "    <tr>\n",
       "      <td>7</td>\n",
       "      <td>69.0</td>\n",
       "      <td>12.0</td>\n",
       "      <td>1.0</td>\n",
       "      <td>12.0</td>\n",
       "      <td>231.0</td>\n",
       "      <td>1212.27</td>\n",
       "      <td>0.04</td>\n",
       "      <td>27.27</td>\n",
       "      <td>44.45</td>\n",
       "      <td>33061.94</td>\n",
       "      <td>...</td>\n",
       "      <td>62.0</td>\n",
       "      <td>3.0</td>\n",
       "      <td>2.0</td>\n",
       "      <td>0.0</td>\n",
       "      <td>16.0</td>\n",
       "      <td>22.0</td>\n",
       "      <td>156.0</td>\n",
       "      <td>75.0</td>\n",
       "      <td>23.0</td>\n",
       "      <td>True</td>\n",
       "    </tr>\n",
       "    <tr>\n",
       "      <td>8</td>\n",
       "      <td>47.0</td>\n",
       "      <td>6.0</td>\n",
       "      <td>1.0</td>\n",
       "      <td>6.0</td>\n",
       "      <td>149.0</td>\n",
       "      <td>745.00</td>\n",
       "      <td>0.06</td>\n",
       "      <td>16.20</td>\n",
       "      <td>45.99</td>\n",
       "      <td>12069.00</td>\n",
       "      <td>...</td>\n",
       "      <td>41.0</td>\n",
       "      <td>2.0</td>\n",
       "      <td>1.0</td>\n",
       "      <td>0.0</td>\n",
       "      <td>12.0</td>\n",
       "      <td>20.0</td>\n",
       "      <td>95.0</td>\n",
       "      <td>54.0</td>\n",
       "      <td>11.0</td>\n",
       "      <td>True</td>\n",
       "    </tr>\n",
       "    <tr>\n",
       "      <td>9</td>\n",
       "      <td>48.0</td>\n",
       "      <td>7.0</td>\n",
       "      <td>1.0</td>\n",
       "      <td>7.0</td>\n",
       "      <td>155.0</td>\n",
       "      <td>801.34</td>\n",
       "      <td>0.06</td>\n",
       "      <td>17.82</td>\n",
       "      <td>44.97</td>\n",
       "      <td>14278.39</td>\n",
       "      <td>...</td>\n",
       "      <td>42.0</td>\n",
       "      <td>2.0</td>\n",
       "      <td>1.0</td>\n",
       "      <td>0.0</td>\n",
       "      <td>14.0</td>\n",
       "      <td>22.0</td>\n",
       "      <td>99.0</td>\n",
       "      <td>56.0</td>\n",
       "      <td>13.0</td>\n",
       "      <td>True</td>\n",
       "    </tr>\n",
       "    <tr>\n",
       "      <td>10</td>\n",
       "      <td>58.0</td>\n",
       "      <td>9.0</td>\n",
       "      <td>1.0</td>\n",
       "      <td>9.0</td>\n",
       "      <td>193.0</td>\n",
       "      <td>1027.13</td>\n",
       "      <td>0.05</td>\n",
       "      <td>20.70</td>\n",
       "      <td>49.62</td>\n",
       "      <td>21261.63</td>\n",
       "      <td>...</td>\n",
       "      <td>50.0</td>\n",
       "      <td>2.0</td>\n",
       "      <td>2.0</td>\n",
       "      <td>0.0</td>\n",
       "      <td>15.0</td>\n",
       "      <td>25.0</td>\n",
       "      <td>124.0</td>\n",
       "      <td>69.0</td>\n",
       "      <td>17.0</td>\n",
       "      <td>True</td>\n",
       "    </tr>\n",
       "    <tr>\n",
       "      <td>11</td>\n",
       "      <td>65.0</td>\n",
       "      <td>6.0</td>\n",
       "      <td>1.0</td>\n",
       "      <td>5.0</td>\n",
       "      <td>155.0</td>\n",
       "      <td>801.34</td>\n",
       "      <td>0.05</td>\n",
       "      <td>19.73</td>\n",
       "      <td>40.62</td>\n",
       "      <td>15808.22</td>\n",
       "      <td>...</td>\n",
       "      <td>54.0</td>\n",
       "      <td>4.0</td>\n",
       "      <td>5.0</td>\n",
       "      <td>0.0</td>\n",
       "      <td>14.0</td>\n",
       "      <td>22.0</td>\n",
       "      <td>93.0</td>\n",
       "      <td>62.0</td>\n",
       "      <td>11.0</td>\n",
       "      <td>True</td>\n",
       "    </tr>\n",
       "    <tr>\n",
       "      <td>12</td>\n",
       "      <td>116.0</td>\n",
       "      <td>11.0</td>\n",
       "      <td>4.0</td>\n",
       "      <td>8.0</td>\n",
       "      <td>289.0</td>\n",
       "      <td>1700.08</td>\n",
       "      <td>0.04</td>\n",
       "      <td>26.60</td>\n",
       "      <td>63.91</td>\n",
       "      <td>45222.23</td>\n",
       "      <td>...</td>\n",
       "      <td>88.0</td>\n",
       "      <td>14.0</td>\n",
       "      <td>12.0</td>\n",
       "      <td>0.0</td>\n",
       "      <td>19.0</td>\n",
       "      <td>40.0</td>\n",
       "      <td>177.0</td>\n",
       "      <td>112.0</td>\n",
       "      <td>21.0</td>\n",
       "      <td>True</td>\n",
       "    </tr>\n",
       "    <tr>\n",
       "      <td>13</td>\n",
       "      <td>24.0</td>\n",
       "      <td>4.0</td>\n",
       "      <td>1.0</td>\n",
       "      <td>4.0</td>\n",
       "      <td>74.0</td>\n",
       "      <td>347.83</td>\n",
       "      <td>0.09</td>\n",
       "      <td>11.37</td>\n",
       "      <td>30.60</td>\n",
       "      <td>3953.70</td>\n",
       "      <td>...</td>\n",
       "      <td>20.0</td>\n",
       "      <td>0.0</td>\n",
       "      <td>0.0</td>\n",
       "      <td>0.0</td>\n",
       "      <td>11.0</td>\n",
       "      <td>15.0</td>\n",
       "      <td>43.0</td>\n",
       "      <td>31.0</td>\n",
       "      <td>7.0</td>\n",
       "      <td>True</td>\n",
       "    </tr>\n",
       "    <tr>\n",
       "      <td>14</td>\n",
       "      <td>77.0</td>\n",
       "      <td>19.0</td>\n",
       "      <td>12.0</td>\n",
       "      <td>19.0</td>\n",
       "      <td>231.0</td>\n",
       "      <td>1245.63</td>\n",
       "      <td>0.03</td>\n",
       "      <td>29.25</td>\n",
       "      <td>42.59</td>\n",
       "      <td>36434.54</td>\n",
       "      <td>...</td>\n",
       "      <td>61.0</td>\n",
       "      <td>7.0</td>\n",
       "      <td>7.0</td>\n",
       "      <td>0.0</td>\n",
       "      <td>18.0</td>\n",
       "      <td>24.0</td>\n",
       "      <td>153.0</td>\n",
       "      <td>78.0</td>\n",
       "      <td>37.0</td>\n",
       "      <td>True</td>\n",
       "    </tr>\n",
       "    <tr>\n",
       "      <td>15</td>\n",
       "      <td>9.0</td>\n",
       "      <td>1.0</td>\n",
       "      <td>1.0</td>\n",
       "      <td>1.0</td>\n",
       "      <td>13.0</td>\n",
       "      <td>46.60</td>\n",
       "      <td>0.29</td>\n",
       "      <td>3.50</td>\n",
       "      <td>13.32</td>\n",
       "      <td>163.12</td>\n",
       "      <td>...</td>\n",
       "      <td>5.0</td>\n",
       "      <td>0.0</td>\n",
       "      <td>0.0</td>\n",
       "      <td>0.0</td>\n",
       "      <td>7.0</td>\n",
       "      <td>5.0</td>\n",
       "      <td>8.0</td>\n",
       "      <td>5.0</td>\n",
       "      <td>1.0</td>\n",
       "      <td>True</td>\n",
       "    </tr>\n",
       "    <tr>\n",
       "      <td>16</td>\n",
       "      <td>16.0</td>\n",
       "      <td>2.0</td>\n",
       "      <td>1.0</td>\n",
       "      <td>2.0</td>\n",
       "      <td>43.0</td>\n",
       "      <td>191.76</td>\n",
       "      <td>0.18</td>\n",
       "      <td>5.43</td>\n",
       "      <td>35.32</td>\n",
       "      <td>1040.96</td>\n",
       "      <td>...</td>\n",
       "      <td>13.0</td>\n",
       "      <td>0.0</td>\n",
       "      <td>1.0</td>\n",
       "      <td>0.0</td>\n",
       "      <td>8.0</td>\n",
       "      <td>14.0</td>\n",
       "      <td>24.0</td>\n",
       "      <td>19.0</td>\n",
       "      <td>3.0</td>\n",
       "      <td>True</td>\n",
       "    </tr>\n",
       "    <tr>\n",
       "      <td>17</td>\n",
       "      <td>93.0</td>\n",
       "      <td>7.0</td>\n",
       "      <td>3.0</td>\n",
       "      <td>6.0</td>\n",
       "      <td>257.0</td>\n",
       "      <td>1499.05</td>\n",
       "      <td>0.03</td>\n",
       "      <td>29.86</td>\n",
       "      <td>50.21</td>\n",
       "      <td>44757.43</td>\n",
       "      <td>...</td>\n",
       "      <td>71.0</td>\n",
       "      <td>4.0</td>\n",
       "      <td>15.0</td>\n",
       "      <td>0.0</td>\n",
       "      <td>22.0</td>\n",
       "      <td>35.0</td>\n",
       "      <td>162.0</td>\n",
       "      <td>95.0</td>\n",
       "      <td>12.0</td>\n",
       "      <td>True</td>\n",
       "    </tr>\n",
       "    <tr>\n",
       "      <td>18</td>\n",
       "      <td>23.0</td>\n",
       "      <td>1.0</td>\n",
       "      <td>1.0</td>\n",
       "      <td>1.0</td>\n",
       "      <td>67.0</td>\n",
       "      <td>307.19</td>\n",
       "      <td>0.21</td>\n",
       "      <td>4.74</td>\n",
       "      <td>64.87</td>\n",
       "      <td>1454.65</td>\n",
       "      <td>...</td>\n",
       "      <td>18.0</td>\n",
       "      <td>0.0</td>\n",
       "      <td>1.0</td>\n",
       "      <td>0.0</td>\n",
       "      <td>7.0</td>\n",
       "      <td>17.0</td>\n",
       "      <td>44.0</td>\n",
       "      <td>23.0</td>\n",
       "      <td>1.0</td>\n",
       "      <td>True</td>\n",
       "    </tr>\n",
       "    <tr>\n",
       "      <td>19</td>\n",
       "      <td>30.0</td>\n",
       "      <td>1.0</td>\n",
       "      <td>1.0</td>\n",
       "      <td>1.0</td>\n",
       "      <td>21.0</td>\n",
       "      <td>85.84</td>\n",
       "      <td>0.30</td>\n",
       "      <td>3.33</td>\n",
       "      <td>25.75</td>\n",
       "      <td>286.12</td>\n",
       "      <td>...</td>\n",
       "      <td>18.0</td>\n",
       "      <td>0.0</td>\n",
       "      <td>1.0</td>\n",
       "      <td>0.0</td>\n",
       "      <td>5.0</td>\n",
       "      <td>12.0</td>\n",
       "      <td>5.0</td>\n",
       "      <td>16.0</td>\n",
       "      <td>1.0</td>\n",
       "      <td>True</td>\n",
       "    </tr>\n",
       "  </tbody>\n",
       "</table>\n",
       "<p>20 rows × 22 columns</p>\n",
       "</div>"
      ],
      "text/plain": [
       "      log  v(g)  ev(g)  iv(g)      n        v     l      d      i         e  \\\n",
       "0     1.1   1.4    1.4    1.4    1.3     1.30  1.30   1.30   1.30      1.30   \n",
       "1     1.0   1.0    1.0    1.0    1.0     1.00  1.00   1.00   1.00      1.00   \n",
       "2    83.0  11.0    1.0   11.0  171.0   927.89  0.04  23.04  40.27  21378.61   \n",
       "3    46.0   8.0    6.0    8.0  141.0   769.78  0.07  14.86  51.81  11436.73   \n",
       "4    25.0   3.0    1.0    3.0   58.0   254.75  0.11   9.35  27.25   2381.95   \n",
       "5    43.0   3.0    1.0    3.0  115.0   569.73  0.09  11.27  50.53   6423.73   \n",
       "6    48.0   6.0    1.0    6.0  149.0   751.61  0.06  15.43  48.72  11596.34   \n",
       "7    69.0  12.0    1.0   12.0  231.0  1212.27  0.04  27.27  44.45  33061.94   \n",
       "8    47.0   6.0    1.0    6.0  149.0   745.00  0.06  16.20  45.99  12069.00   \n",
       "9    48.0   7.0    1.0    7.0  155.0   801.34  0.06  17.82  44.97  14278.39   \n",
       "10   58.0   9.0    1.0    9.0  193.0  1027.13  0.05  20.70  49.62  21261.63   \n",
       "11   65.0   6.0    1.0    5.0  155.0   801.34  0.05  19.73  40.62  15808.22   \n",
       "12  116.0  11.0    4.0    8.0  289.0  1700.08  0.04  26.60  63.91  45222.23   \n",
       "13   24.0   4.0    1.0    4.0   74.0   347.83  0.09  11.37  30.60   3953.70   \n",
       "14   77.0  19.0   12.0   19.0  231.0  1245.63  0.03  29.25  42.59  36434.54   \n",
       "15    9.0   1.0    1.0    1.0   13.0    46.60  0.29   3.50  13.32    163.12   \n",
       "16   16.0   2.0    1.0    2.0   43.0   191.76  0.18   5.43  35.32   1040.96   \n",
       "17   93.0   7.0    3.0    6.0  257.0  1499.05  0.03  29.86  50.21  44757.43   \n",
       "18   23.0   1.0    1.0    1.0   67.0   307.19  0.21   4.74  64.87   1454.65   \n",
       "19   30.0   1.0    1.0    1.0   21.0    85.84  0.30   3.33  25.75    286.12   \n",
       "\n",
       "    ...  10Code  10Comment  10Blank  10CodeAndComment  uniq_op  uniq_Opnd  \\\n",
       "0   ...     2.0        2.0      2.0               2.0      1.2        1.2   \n",
       "1   ...     1.0        1.0      1.0               1.0      1.0        1.0   \n",
       "2   ...    65.0       10.0      6.0               0.0     18.0       25.0   \n",
       "3   ...    37.0        2.0      5.0               0.0     16.0       28.0   \n",
       "4   ...    21.0        0.0      2.0               0.0     11.0       10.0   \n",
       "5   ...    35.0        2.0      4.0               0.0     11.0       20.0   \n",
       "6   ...    41.0        2.0      2.0               0.0     12.0       21.0   \n",
       "7   ...    62.0        3.0      2.0               0.0     16.0       22.0   \n",
       "8   ...    41.0        2.0      1.0               0.0     12.0       20.0   \n",
       "9   ...    42.0        2.0      1.0               0.0     14.0       22.0   \n",
       "10  ...    50.0        2.0      2.0               0.0     15.0       25.0   \n",
       "11  ...    54.0        4.0      5.0               0.0     14.0       22.0   \n",
       "12  ...    88.0       14.0     12.0               0.0     19.0       40.0   \n",
       "13  ...    20.0        0.0      0.0               0.0     11.0       15.0   \n",
       "14  ...    61.0        7.0      7.0               0.0     18.0       24.0   \n",
       "15  ...     5.0        0.0      0.0               0.0      7.0        5.0   \n",
       "16  ...    13.0        0.0      1.0               0.0      8.0       14.0   \n",
       "17  ...    71.0        4.0     15.0               0.0     22.0       35.0   \n",
       "18  ...    18.0        0.0      1.0               0.0      7.0       17.0   \n",
       "19  ...    18.0        0.0      1.0               0.0      5.0       12.0   \n",
       "\n",
       "    total_op  total_Opnd  branchCount  defectprone  \n",
       "0        1.2         1.2          1.4        False  \n",
       "1        1.0         1.0          1.0         True  \n",
       "2      107.0        64.0         21.0         True  \n",
       "3       89.0        52.0         15.0         True  \n",
       "4       41.0        17.0          5.0         True  \n",
       "5       74.0        41.0          5.0         True  \n",
       "6       95.0        54.0         11.0         True  \n",
       "7      156.0        75.0         23.0         True  \n",
       "8       95.0        54.0         11.0         True  \n",
       "9       99.0        56.0         13.0         True  \n",
       "10     124.0        69.0         17.0         True  \n",
       "11      93.0        62.0         11.0         True  \n",
       "12     177.0       112.0         21.0         True  \n",
       "13      43.0        31.0          7.0         True  \n",
       "14     153.0        78.0         37.0         True  \n",
       "15       8.0         5.0          1.0         True  \n",
       "16      24.0        19.0          3.0         True  \n",
       "17     162.0        95.0         12.0         True  \n",
       "18      44.0        23.0          1.0         True  \n",
       "19       5.0        16.0          1.0         True  \n",
       "\n",
       "[20 rows x 22 columns]"
      ]
     },
     "execution_count": 1,
     "metadata": {},
     "output_type": "execute_result"
    }
   ],
   "source": [
    "#Dhanashree Patil\n",
    "#1032170512\n",
    "#PA21\n",
    "\n",
    "import numpy as np \n",
    "import pandas as pd\n",
    "import matplotlib.pyplot as plt\n",
    "data = pd.read_csv(\"SDPdatasetKC1\",sep=\",\",header=None,names=['log','v(g)','ev(g)','iv(g)','n','v','l','d','i','e','b',\n",
    "                   't','10Code','10Comment','10Blank','10CodeAndComment','uniq_op','uniq_Opnd','total_op','total_Opnd',\n",
    "                   'branchCount','defectprone'])\n",
    "data.head(20)"
   ]
  },
  {
   "cell_type": "code",
   "execution_count": 2,
   "metadata": {},
   "outputs": [
    {
     "name": "stdout",
     "output_type": "stream",
     "text": [
      "<class 'pandas.core.frame.DataFrame'>\n",
      "RangeIndex: 1377 entries, 0 to 1376\n",
      "Data columns (total 22 columns):\n",
      "log                 1377 non-null float64\n",
      "v(g)                1377 non-null float64\n",
      "ev(g)               1377 non-null float64\n",
      "iv(g)               1377 non-null float64\n",
      "n                   1377 non-null float64\n",
      "v                   1377 non-null float64\n",
      "l                   1377 non-null float64\n",
      "d                   1377 non-null float64\n",
      "i                   1377 non-null float64\n",
      "e                   1377 non-null float64\n",
      "b                   1376 non-null float64\n",
      "t                   1376 non-null float64\n",
      "10Code              1376 non-null float64\n",
      "10Comment           1376 non-null float64\n",
      "10Blank             1376 non-null float64\n",
      "10CodeAndComment    1376 non-null float64\n",
      "uniq_op             1376 non-null float64\n",
      "uniq_Opnd           1376 non-null float64\n",
      "total_op            1376 non-null float64\n",
      "total_Opnd          1376 non-null float64\n",
      "branchCount         1376 non-null float64\n",
      "defectprone         1376 non-null object\n",
      "dtypes: float64(21), object(1)\n",
      "memory usage: 236.8+ KB\n"
     ]
    }
   ],
   "source": [
    "data.info()"
   ]
  },
  {
   "cell_type": "code",
   "execution_count": 3,
   "metadata": {},
   "outputs": [
    {
     "data": {
      "text/plain": [
       "(1377, 22)"
      ]
     },
     "execution_count": 3,
     "metadata": {},
     "output_type": "execute_result"
    }
   ],
   "source": [
    "data.shape"
   ]
  },
  {
   "cell_type": "code",
   "execution_count": 4,
   "metadata": {},
   "outputs": [
    {
     "data": {
      "text/plain": [
       "log                 0\n",
       "v(g)                0\n",
       "ev(g)               0\n",
       "iv(g)               0\n",
       "n                   0\n",
       "v                   0\n",
       "l                   0\n",
       "d                   0\n",
       "i                   0\n",
       "e                   0\n",
       "b                   1\n",
       "t                   1\n",
       "10Code              1\n",
       "10Comment           1\n",
       "10Blank             1\n",
       "10CodeAndComment    1\n",
       "uniq_op             1\n",
       "uniq_Opnd           1\n",
       "total_op            1\n",
       "total_Opnd          1\n",
       "branchCount         1\n",
       "defectprone         1\n",
       "dtype: int64"
      ]
     },
     "execution_count": 4,
     "metadata": {},
     "output_type": "execute_result"
    }
   ],
   "source": [
    "data.isnull().sum()\n"
   ]
  },
  {
   "cell_type": "code",
   "execution_count": 5,
   "metadata": {},
   "outputs": [
    {
     "data": {
      "text/plain": [
       "(1376, 22)"
      ]
     },
     "execution_count": 5,
     "metadata": {},
     "output_type": "execute_result"
    }
   ],
   "source": [
    "data.dropna(inplace=True)\n",
    "data.shape"
   ]
  },
  {
   "cell_type": "code",
   "execution_count": 6,
   "metadata": {},
   "outputs": [
    {
     "data": {
      "text/html": [
       "<div>\n",
       "<style scoped>\n",
       "    .dataframe tbody tr th:only-of-type {\n",
       "        vertical-align: middle;\n",
       "    }\n",
       "\n",
       "    .dataframe tbody tr th {\n",
       "        vertical-align: top;\n",
       "    }\n",
       "\n",
       "    .dataframe thead th {\n",
       "        text-align: right;\n",
       "    }\n",
       "</style>\n",
       "<table border=\"1\" class=\"dataframe\">\n",
       "  <thead>\n",
       "    <tr style=\"text-align: right;\">\n",
       "      <th></th>\n",
       "      <th>log</th>\n",
       "      <th>v(g)</th>\n",
       "      <th>ev(g)</th>\n",
       "      <th>iv(g)</th>\n",
       "      <th>n</th>\n",
       "      <th>v</th>\n",
       "      <th>l</th>\n",
       "      <th>d</th>\n",
       "      <th>i</th>\n",
       "      <th>e</th>\n",
       "      <th>...</th>\n",
       "      <th>t</th>\n",
       "      <th>10Code</th>\n",
       "      <th>10Comment</th>\n",
       "      <th>10Blank</th>\n",
       "      <th>10CodeAndComment</th>\n",
       "      <th>uniq_op</th>\n",
       "      <th>uniq_Opnd</th>\n",
       "      <th>total_op</th>\n",
       "      <th>total_Opnd</th>\n",
       "      <th>branchCount</th>\n",
       "    </tr>\n",
       "  </thead>\n",
       "  <tbody>\n",
       "    <tr>\n",
       "      <td>0</td>\n",
       "      <td>1.1</td>\n",
       "      <td>1.4</td>\n",
       "      <td>1.4</td>\n",
       "      <td>1.4</td>\n",
       "      <td>1.3</td>\n",
       "      <td>1.30</td>\n",
       "      <td>1.30</td>\n",
       "      <td>1.30</td>\n",
       "      <td>1.30</td>\n",
       "      <td>1.30</td>\n",
       "      <td>...</td>\n",
       "      <td>1.30</td>\n",
       "      <td>2.0</td>\n",
       "      <td>2.0</td>\n",
       "      <td>2.0</td>\n",
       "      <td>2.0</td>\n",
       "      <td>1.2</td>\n",
       "      <td>1.2</td>\n",
       "      <td>1.2</td>\n",
       "      <td>1.2</td>\n",
       "      <td>1.4</td>\n",
       "    </tr>\n",
       "    <tr>\n",
       "      <td>1</td>\n",
       "      <td>1.0</td>\n",
       "      <td>1.0</td>\n",
       "      <td>1.0</td>\n",
       "      <td>1.0</td>\n",
       "      <td>1.0</td>\n",
       "      <td>1.00</td>\n",
       "      <td>1.00</td>\n",
       "      <td>1.00</td>\n",
       "      <td>1.00</td>\n",
       "      <td>1.00</td>\n",
       "      <td>...</td>\n",
       "      <td>1.00</td>\n",
       "      <td>1.0</td>\n",
       "      <td>1.0</td>\n",
       "      <td>1.0</td>\n",
       "      <td>1.0</td>\n",
       "      <td>1.0</td>\n",
       "      <td>1.0</td>\n",
       "      <td>1.0</td>\n",
       "      <td>1.0</td>\n",
       "      <td>1.0</td>\n",
       "    </tr>\n",
       "    <tr>\n",
       "      <td>2</td>\n",
       "      <td>83.0</td>\n",
       "      <td>11.0</td>\n",
       "      <td>1.0</td>\n",
       "      <td>11.0</td>\n",
       "      <td>171.0</td>\n",
       "      <td>927.89</td>\n",
       "      <td>0.04</td>\n",
       "      <td>23.04</td>\n",
       "      <td>40.27</td>\n",
       "      <td>21378.61</td>\n",
       "      <td>...</td>\n",
       "      <td>1187.70</td>\n",
       "      <td>65.0</td>\n",
       "      <td>10.0</td>\n",
       "      <td>6.0</td>\n",
       "      <td>0.0</td>\n",
       "      <td>18.0</td>\n",
       "      <td>25.0</td>\n",
       "      <td>107.0</td>\n",
       "      <td>64.0</td>\n",
       "      <td>21.0</td>\n",
       "    </tr>\n",
       "    <tr>\n",
       "      <td>3</td>\n",
       "      <td>46.0</td>\n",
       "      <td>8.0</td>\n",
       "      <td>6.0</td>\n",
       "      <td>8.0</td>\n",
       "      <td>141.0</td>\n",
       "      <td>769.78</td>\n",
       "      <td>0.07</td>\n",
       "      <td>14.86</td>\n",
       "      <td>51.81</td>\n",
       "      <td>11436.73</td>\n",
       "      <td>...</td>\n",
       "      <td>635.37</td>\n",
       "      <td>37.0</td>\n",
       "      <td>2.0</td>\n",
       "      <td>5.0</td>\n",
       "      <td>0.0</td>\n",
       "      <td>16.0</td>\n",
       "      <td>28.0</td>\n",
       "      <td>89.0</td>\n",
       "      <td>52.0</td>\n",
       "      <td>15.0</td>\n",
       "    </tr>\n",
       "    <tr>\n",
       "      <td>4</td>\n",
       "      <td>25.0</td>\n",
       "      <td>3.0</td>\n",
       "      <td>1.0</td>\n",
       "      <td>3.0</td>\n",
       "      <td>58.0</td>\n",
       "      <td>254.75</td>\n",
       "      <td>0.11</td>\n",
       "      <td>9.35</td>\n",
       "      <td>27.25</td>\n",
       "      <td>2381.95</td>\n",
       "      <td>...</td>\n",
       "      <td>132.33</td>\n",
       "      <td>21.0</td>\n",
       "      <td>0.0</td>\n",
       "      <td>2.0</td>\n",
       "      <td>0.0</td>\n",
       "      <td>11.0</td>\n",
       "      <td>10.0</td>\n",
       "      <td>41.0</td>\n",
       "      <td>17.0</td>\n",
       "      <td>5.0</td>\n",
       "    </tr>\n",
       "  </tbody>\n",
       "</table>\n",
       "<p>5 rows × 21 columns</p>\n",
       "</div>"
      ],
      "text/plain": [
       "    log  v(g)  ev(g)  iv(g)      n       v     l      d      i         e  ...  \\\n",
       "0   1.1   1.4    1.4    1.4    1.3    1.30  1.30   1.30   1.30      1.30  ...   \n",
       "1   1.0   1.0    1.0    1.0    1.0    1.00  1.00   1.00   1.00      1.00  ...   \n",
       "2  83.0  11.0    1.0   11.0  171.0  927.89  0.04  23.04  40.27  21378.61  ...   \n",
       "3  46.0   8.0    6.0    8.0  141.0  769.78  0.07  14.86  51.81  11436.73  ...   \n",
       "4  25.0   3.0    1.0    3.0   58.0  254.75  0.11   9.35  27.25   2381.95  ...   \n",
       "\n",
       "         t  10Code  10Comment  10Blank  10CodeAndComment  uniq_op  uniq_Opnd  \\\n",
       "0     1.30     2.0        2.0      2.0               2.0      1.2        1.2   \n",
       "1     1.00     1.0        1.0      1.0               1.0      1.0        1.0   \n",
       "2  1187.70    65.0       10.0      6.0               0.0     18.0       25.0   \n",
       "3   635.37    37.0        2.0      5.0               0.0     16.0       28.0   \n",
       "4   132.33    21.0        0.0      2.0               0.0     11.0       10.0   \n",
       "\n",
       "   total_op  total_Opnd  branchCount  \n",
       "0       1.2         1.2          1.4  \n",
       "1       1.0         1.0          1.0  \n",
       "2     107.0        64.0         21.0  \n",
       "3      89.0        52.0         15.0  \n",
       "4      41.0        17.0          5.0  \n",
       "\n",
       "[5 rows x 21 columns]"
      ]
     },
     "execution_count": 6,
     "metadata": {},
     "output_type": "execute_result"
    }
   ],
   "source": [
    "X =data.drop([\"defectprone\"],axis=1)\n",
    "X.head()"
   ]
  },
  {
   "cell_type": "code",
   "execution_count": 7,
   "metadata": {},
   "outputs": [
    {
     "data": {
      "text/plain": [
       "<bound method NDFrame.head of 0       0\n",
       "1       1\n",
       "2       1\n",
       "3       1\n",
       "4       1\n",
       "       ..\n",
       "1371    0\n",
       "1372    0\n",
       "1373    0\n",
       "1374    0\n",
       "1375    0\n",
       "Name: defectprone, Length: 1376, dtype: int64>"
      ]
     },
     "execution_count": 7,
     "metadata": {},
     "output_type": "execute_result"
    }
   ],
   "source": [
    "data.defectprone = [1 if each == True else 0 for each in data.defectprone]\n",
    "y = data[\"defectprone\"]\n",
    "y.head\n"
   ]
  },
  {
   "cell_type": "code",
   "execution_count": 8,
   "metadata": {},
   "outputs": [],
   "source": [
    "from sklearn.model_selection import train_test_split\n",
    "x_train,x_test,y_train,y_test=train_test_split(X,y,test_size=0.2,random_state=1)"
   ]
  },
  {
   "cell_type": "code",
   "execution_count": 9,
   "metadata": {},
   "outputs": [
    {
     "name": "stdout",
     "output_type": "stream",
     "text": [
      "KNN accuracy according to K=3 is : 0.7644927536231884\n"
     ]
    }
   ],
   "source": [
    "from sklearn.neighbors import KNeighborsClassifier\n",
    "knn = KNeighborsClassifier(n_neighbors = 17) #set K neighbor as 3\n",
    "knn.fit(x_train,y_train)\n",
    "predicted_y = knn.predict(x_test)\n",
    "print(\"KNN accuracy according to K=3 is :\",knn.score(x_test,y_test))"
   ]
  },
  {
   "cell_type": "code",
   "execution_count": 10,
   "metadata": {},
   "outputs": [
    {
     "data": {
      "image/png": "[encoded data removed]",
      "text/plain": [
       "<Figure size 432x288 with 1 Axes>"
      ]
     },
     "metadata": {
      "needs_background": "light"
     },
     "output_type": "display_data"
    }
   ],
   "source": [
    "score_array = []\n",
    "for each in range(1,25):\n",
    "    knn_loop = KNeighborsClassifier(n_neighbors = each) #set K neighbor as 3\n",
    "    knn_loop.fit(x_train,y_train)\n",
    "    score_array.append(knn_loop.score(x_test,y_test))\n",
    "    \n",
    "plt.plot(range(1,25),score_array)\n",
    "plt.xlabel(\"Range\")\n",
    "plt.ylabel(\"Score\")\n",
    "plt.show()"
   ]
  },
  {
   "cell_type": "code",
   "execution_count": 11,
   "metadata": {},
   "outputs": [
    {
     "name": "stdout",
     "output_type": "stream",
     "text": [
      "Logistic Regression accuracy is : 0.7644927536231884\n"
     ]
    },
    {
     "name": "stderr",
     "output_type": "stream",
     "text": [
      "C:\\Users\\admin\\Anaconda2NDinstall\\lib\\site-packages\\sklearn\\linear_model\\logistic.py:432: FutureWarning: Default solver will be changed to 'lbfgs' in 0.22. Specify a solver to silence this warning.\n",
      "  FutureWarning)\n"
     ]
    }
   ],
   "source": [
    "from sklearn.linear_model import LogisticRegression\n",
    "lr_model = LogisticRegression()\n",
    "lr_model.fit(x_train,y_train)\n",
    "accuracy_lr = lr_model.score(x_test,y_test)\n",
    "print(\"Logistic Regression accuracy is :\",accuracy_lr)"
   ]
  },
  {
   "cell_type": "code",
   "execution_count": 12,
   "metadata": {},
   "outputs": [
    {
     "name": "stderr",
     "output_type": "stream",
     "text": [
      "C:\\Users\\admin\\Anaconda2NDinstall\\lib\\site-packages\\sklearn\\svm\\base.py:193: FutureWarning: The default value of gamma will change from 'auto' to 'scale' in version 0.22 to account better for unscaled features. Set gamma explicitly to 'auto' or 'scale' to avoid this warning.\n",
      "  \"avoid this warning.\", FutureWarning)\n"
     ]
    },
    {
     "name": "stdout",
     "output_type": "stream",
     "text": [
      "SVM accuracy is : 0.7427536231884058\n"
     ]
    }
   ],
   "source": [
    "from sklearn.svm import SVC\n",
    "svc_model = SVC(random_state = 1)\n",
    "svc_model.fit(x_train,y_train)\n",
    "accuracy_svc = svc_model.score(x_test,y_test)\n",
    "print(\"SVM accuracy is :\",accuracy_svc)"
   ]
  },
  {
   "cell_type": "code",
   "execution_count": 13,
   "metadata": {},
   "outputs": [
    {
     "name": "stdout",
     "output_type": "stream",
     "text": [
      "Naive Bayes accuracy is : 0.7536231884057971\n"
     ]
    }
   ],
   "source": [
    "# Naive Bayes Classification\n",
    "from sklearn.naive_bayes import GaussianNB\n",
    "nb_model = GaussianNB()\n",
    "nb_model.fit(x_train,y_train)\n",
    "accuracy_nb = nb_model.score(x_test,y_test)\n",
    "print(\"Naive Bayes accuracy is :\",accuracy_nb)"
   ]
  },
  {
   "cell_type": "code",
   "execution_count": 14,
   "metadata": {},
   "outputs": [
    {
     "name": "stdout",
     "output_type": "stream",
     "text": [
      "Decision Tree accuracy is : 0.7355072463768116\n"
     ]
    }
   ],
   "source": [
    "# Decision Tree Classification\n",
    "from sklearn.tree import DecisionTreeClassifier\n",
    "dt_model = DecisionTreeClassifier()\n",
    "dt_model.fit(x_train,y_train)\n",
    "accuracy_dt = dt_model.score(x_test,y_test)\n",
    "print(\"Decision Tree accuracy is :\",accuracy_dt)"
   ]
  },
  {
   "cell_type": "code",
   "execution_count": 15,
   "metadata": {},
   "outputs": [
    {
     "name": "stderr",
     "output_type": "stream",
     "text": [
      "C:\\Users\\admin\\Anaconda2NDinstall\\lib\\site-packages\\sklearn\\externals\\six.py:31: DeprecationWarning: The module is deprecated in version 0.21 and will be removed in version 0.23 since we've dropped support for Python 2.7. Please rely on the official version of six (https://pypi.org/project/six/).\n",
      "  \"(https://pypi.org/project/six/).\", DeprecationWarning)\n"
     ]
    },
    {
     "data": {
      "text/plain": [
       "True"
      ]
     },
     "execution_count": 15,
     "metadata": {},
     "output_type": "execute_result"
    }
   ],
   "source": [
    "#Decision Tree Visualization\n",
    "from sklearn.externals.six import StringIO\n",
    "from IPython.display import Image\n",
    "from sklearn.tree import export_graphviz\n",
    "import pydotplus\n",
    "dot_data =StringIO()\n",
    "\n",
    "export_graphviz(dt_model,out_file=dot_data,filled = True,rounded = True,\n",
    "               special_characters = True,\n",
    "               class_names = ['0','1'])\n",
    "graph = pydotplus.graph_from_dot_data(dot_data.getvalue())\n",
    "graph.write_png('tree2(defect).png')"
   ]
  },
  {
   "cell_type": "code",
   "execution_count": 120,
   "metadata": {},
   "outputs": [
    {
     "name": "stdout",
     "output_type": "stream",
     "text": [
      "Random Forest accuracy for 5 trees is : 0.7427536231884058\n"
     ]
    }
   ],
   "source": [
    "#Random Forest Classifier\n",
    "from sklearn.ensemble import RandomForestClassifier\n",
    "rf_model_initial = RandomForestClassifier(n_estimators = 5, random_state = 1)\n",
    "rf_model_initial.fit(x_train,y_train)\n",
    "print(\"Random Forest accuracy for 5 trees is :\",rf_model_initial.score(x_test,y_test))"
   ]
  },
  {
   "cell_type": "code",
   "execution_count": 121,
   "metadata": {},
   "outputs": [
    {
     "name": "stdout",
     "output_type": "stream",
     "text": [
      "[[192  11]\n",
      " [ 54  19]]\n"
     ]
    },
    {
     "data": {
      "image/png": "[encoded data removed]",
      "text/plain": [
       "<Figure size 216x216 with 2 Axes>"
      ]
     },
     "metadata": {
      "needs_background": "light"
     },
     "output_type": "display_data"
    }
   ],
   "source": [
    "# Confusian Matrix for Logistic Regression\n",
    "from sklearn.metrics import recall_score, confusion_matrix, precision_score, f1_score, accuracy_score, classification_report\n",
    "cm_lr = confusion_matrix(y_test,lr_model.predict(x_test))\n",
    "\n",
    "print(cm_lr)\n",
    "\n",
    "f, ax = plt.subplots(figsize = (3,3))\n",
    "sns.heatmap(cm_lr, annot = True, linewidths = 0.5, color = \"blue\", fmt = \".0f\", ax=ax)\n",
    "plt.xlabel(\"y_predicted\")\n",
    "plt.ylabel(\"y_true\")\n",
    "#plt.title(\"Confusion Matrix of Logistic Regression\")\n",
    "plt.show()"
   ]
  },
  {
   "cell_type": "code",
   "execution_count": 122,
   "metadata": {},
   "outputs": [
    {
     "name": "stdout",
     "output_type": "stream",
     "text": [
      "[[191  12]\n",
      " [ 56  17]]\n"
     ]
    },
    {
     "data": {
      "image/png": "[encoded data removed]",
      "text/plain": [
       "<Figure size 216x216 with 2 Axes>"
      ]
     },
     "metadata": {
      "needs_background": "light"
     },
     "output_type": "display_data"
    }
   ],
   "source": [
    "from sklearn.metrics import recall_score, confusion_matrix, precision_score, f1_score, accuracy_score, classification_report\n",
    "cm_lr = confusion_matrix(y_test,knn.predict(x_test))\n",
    "\n",
    "print(cm_lr)\n",
    "\n",
    "f, ax = plt.subplots(figsize = (3,3))\n",
    "sns.heatmap(cm_lr, annot = True, linewidths = 0.5, color = \"blue\", fmt = \".0f\", ax=ax)\n",
    "plt.xlabel(\"y_predicted\")\n",
    "plt.ylabel(\"y_true\")\n",
    "#plt.title(\"Confusion Matrix of Logistic Regression\")\n",
    "plt.show()"
   ]
  },
  {
   "cell_type": "code",
   "execution_count": 123,
   "metadata": {},
   "outputs": [
    {
     "name": "stdout",
     "output_type": "stream",
     "text": [
      "[[203   0]\n",
      " [ 71   2]]\n"
     ]
    },
    {
     "data": {
      "image/png": "[encoded data removed]",
      "text/plain": [
       "<Figure size 216x216 with 2 Axes>"
      ]
     },
     "metadata": {
      "needs_background": "light"
     },
     "output_type": "display_data"
    }
   ],
   "source": [
    "from sklearn.metrics import recall_score, confusion_matrix, precision_score, f1_score, accuracy_score, classification_report\n",
    "cm_lr = confusion_matrix(y_test,svc_model.predict(x_test))\n",
    "\n",
    "print(cm_lr)\n",
    "\n",
    "f, ax = plt.subplots(figsize = (3,3))\n",
    "sns.heatmap(cm_lr, annot = True, linewidths = 0.5, color = \"blue\", fmt = \".0f\", ax=ax)\n",
    "plt.xlabel(\"y_predicted\")\n",
    "plt.ylabel(\"y_true\")\n",
    "#plt.title(\"Confusion Matrix of Logistic Regression\")\n",
    "plt.show()"
   ]
  },
  {
   "cell_type": "code",
   "execution_count": 124,
   "metadata": {},
   "outputs": [
    {
     "name": "stdout",
     "output_type": "stream",
     "text": [
      "[[178  25]\n",
      " [ 44  29]]\n"
     ]
    },
    {
     "data": {
      "image/png": "[encoded data removed]",
      "text/plain": [
       "<Figure size 216x216 with 2 Axes>"
      ]
     },
     "metadata": {
      "needs_background": "light"
     },
     "output_type": "display_data"
    }
   ],
   "source": [
    "from sklearn.metrics import recall_score, confusion_matrix, precision_score, f1_score, accuracy_score, classification_report\n",
    "cm_lr = confusion_matrix(y_test,dt_model.predict(x_test))\n",
    "\n",
    "print(cm_lr)\n",
    "\n",
    "f, ax = plt.subplots(figsize = (3,3))\n",
    "sns.heatmap(cm_lr, annot = True, linewidths = 0.5, color = \"blue\", fmt = \".0f\", ax=ax)\n",
    "plt.xlabel(\"y_predicted\")\n",
    "plt.ylabel(\"y_true\")\n",
    "#plt.title(\"Confusion Matrix of Logistic Regression\")\n",
    "plt.show()"
   ]
  },
  {
   "cell_type": "code",
   "execution_count": 125,
   "metadata": {},
   "outputs": [
    {
     "name": "stdout",
     "output_type": "stream",
     "text": [
      "[[181  22]\n",
      " [ 46  27]]\n"
     ]
    },
    {
     "data": {
      "image/png": "[encoded data removed]",
      "text/plain": [
       "<Figure size 216x216 with 2 Axes>"
      ]
     },
     "metadata": {
      "needs_background": "light"
     },
     "output_type": "display_data"
    }
   ],
   "source": [
    "from sklearn.metrics import recall_score, confusion_matrix, precision_score, f1_score, accuracy_score, classification_report\n",
    "cm_lr = confusion_matrix(y_test,nb_model.predict(x_test))\n",
    "\n",
    "print(cm_lr)\n",
    "\n",
    "f, ax = plt.subplots(figsize = (3,3))\n",
    "sns.heatmap(cm_lr, annot = True, linewidths = 0.5, color = \"blue\", fmt = \".0f\", ax=ax)\n",
    "plt.xlabel(\"y_predicted\")\n",
    "plt.ylabel(\"y_true\")\n",
    "#plt.title(\"Confusion Matrix of Logistic Regression\")\n",
    "plt.show()"
   ]
  },
  {
   "cell_type": "code",
   "execution_count": 126,
   "metadata": {},
   "outputs": [
    {
     "name": "stdout",
     "output_type": "stream",
     "text": [
      "[[176  27]\n",
      " [ 44  29]]\n"
     ]
    },
    {
     "data": {
      "image/png": "[encoded data removed]",
      "text/plain": [
       "<Figure size 216x216 with 2 Axes>"
      ]
     },
     "metadata": {
      "needs_background": "light"
     },
     "output_type": "display_data"
    }
   ],
   "source": [
    "from sklearn.metrics import recall_score, confusion_matrix, precision_score, f1_score, accuracy_score, classification_report\n",
    "cm_lr = confusion_matrix(y_test,rf_model_initial.predict(x_test))\n",
    "\n",
    "print(cm_lr)\n",
    "\n",
    "f, ax = plt.subplots(figsize = (3,3))\n",
    "sns.heatmap(cm_lr, annot = True, linewidths = 0.5, cmap = \"Blues\", fmt = \".0f\", ax=ax)\n",
    "plt.xlabel(\"y_predicted\")\n",
    "plt.ylabel(\"y_true\")\n",
    "#plt.title(\"Confusion Matrix of Logistic Regression\")\n",
    "plt.show()"
   ]
  },
  {
   "cell_type": "code",
   "execution_count": 135,
   "metadata": {},
   "outputs": [
    {
     "name": "stdout",
     "output_type": "stream",
     "text": [
      "Logistic Regression\n",
      "              precision    recall  f1-score   support\n",
      "\n",
      "           0       0.78      0.95      0.86       203\n",
      "           1       0.63      0.26      0.37        73\n",
      "\n",
      "    accuracy                           0.76       276\n",
      "   macro avg       0.71      0.60      0.61       276\n",
      "weighted avg       0.74      0.76      0.73       276\n",
      "\n",
      "KNN\n",
      "              precision    recall  f1-score   support\n",
      "\n",
      "           0       0.79      0.94      0.85       203\n",
      "           1       0.62      0.29      0.39        73\n",
      "\n",
      "    accuracy                           0.76       276\n",
      "   macro avg       0.70      0.61      0.62       276\n",
      "weighted avg       0.74      0.76      0.73       276\n",
      "\n",
      "Naive Bayes\n",
      "              precision    recall  f1-score   support\n",
      "\n",
      "           0       0.80      0.89      0.84       203\n",
      "           1       0.55      0.37      0.44        73\n",
      "\n",
      "    accuracy                           0.75       276\n",
      "   macro avg       0.67      0.63      0.64       276\n",
      "weighted avg       0.73      0.75      0.74       276\n",
      "\n",
      "Decision Tree\n",
      "              precision    recall  f1-score   support\n",
      "\n",
      "           0       0.80      0.88      0.84       203\n",
      "           1       0.54      0.40      0.46        73\n",
      "\n",
      "    accuracy                           0.75       276\n",
      "   macro avg       0.67      0.64      0.65       276\n",
      "weighted avg       0.73      0.75      0.74       276\n",
      "\n",
      "SVM\n",
      "              precision    recall  f1-score   support\n",
      "\n",
      "           0       0.74      1.00      0.85       203\n",
      "           1       1.00      0.03      0.05        73\n",
      "\n",
      "    accuracy                           0.74       276\n",
      "   macro avg       0.87      0.51      0.45       276\n",
      "weighted avg       0.81      0.74      0.64       276\n",
      "\n",
      "RandomForest\n",
      "              precision    recall  f1-score   support\n",
      "\n",
      "           0       0.80      0.87      0.83       203\n",
      "           1       0.52      0.40      0.45        73\n",
      "\n",
      "    accuracy                           0.74       276\n",
      "   macro avg       0.66      0.63      0.64       276\n",
      "weighted avg       0.73      0.74      0.73       276\n",
      "\n"
     ]
    }
   ],
   "source": [
    "print(\"Logistic Regression\")\n",
    "report = classification_report(y_test, lr_model.predict(x_test))\n",
    "print(report)\n",
    "\n",
    "print(\"KNN\")\n",
    "report = classification_report(y_test, knn.predict(x_test))\n",
    "print(report)\n",
    "\n",
    "print(\"Naive Bayes\")\n",
    "report = classification_report(y_test, nb_model.predict(x_test))\n",
    "print(report)\n",
    "\n",
    "print(\"Decision Tree\")\n",
    "report = classification_report(y_test, dt_model.predict(x_test))\n",
    "print(report)\n",
    "\n",
    "print(\"SVM\")\n",
    "report = classification_report(y_test,svc_model.predict(x_test))\n",
    "print(report)\n",
    "\n",
    "print(\"RandomForest\")\n",
    "report = classification_report(y_test,rf_model_initial.predict(x_test))\n",
    "print(report)\n"
   ]
  },
  {
   "cell_type": "code",
   "execution_count": 139,
   "metadata": {},
   "outputs": [],
   "source": [
    "#using ensemble Adaboost\n",
    "from sklearn.ensemble import AdaBoostClassifier\n",
    "from sklearn.svm import SVC\n",
    "from sklearn.metrics import accuracy_score\n",
    "svc=SVC(probability=True,kernel='linear')\n",
    "\n",
    "abc=AdaBoostClassifier(n_estimators=30,base_estimator=svc)\n",
    "model=abc.fit(x_train,y_train)\n",
    "y_pred=model.predict(x_train)"
   ]
  },
  {
   "cell_type": "code",
   "execution_count": 128,
   "metadata": {},
   "outputs": [
    {
     "name": "stdout",
     "output_type": "stream",
     "text": [
      "[[202   1]\n",
      " [ 73   0]]\n"
     ]
    },
    {
     "data": {
      "image/png": "[encoded data removed]",
      "text/plain": [
       "<Figure size 216x216 with 2 Axes>"
      ]
     },
     "metadata": {
      "needs_background": "light"
     },
     "output_type": "display_data"
    }
   ],
   "source": [
    "from sklearn.metrics import recall_score, confusion_matrix, precision_score, f1_score, accuracy_score, classification_report\n",
    "cm_lr = confusion_matrix(y_test,model.predict(x_test))\n",
    "\n",
    "print(cm_lr)\n",
    "\n",
    "f, ax = plt.subplots(figsize = (3,3))\n",
    "sns.heatmap(cm_lr, annot = True, linewidths = 0.5, color = \"blue\", fmt = \".0f\", ax=ax)\n",
    "plt.xlabel(\"y_predicted\")\n",
    "plt.ylabel(\"y_true\")\n",
    "#plt.title(\"Confusion Matrix of Logistic Regression\")\n",
    "plt.show()"
   ]
  },
  {
   "cell_type": "code",
   "execution_count": 104,
   "metadata": {},
   "outputs": [
    {
     "name": "stdout",
     "output_type": "stream",
     "text": [
      "Accuracy: 0.7709090909090909\n"
     ]
    }
   ],
   "source": [
    "print(\"Accuracy:\",accuracy_score(y_train,y_pred))"
   ]
  },
  {
   "cell_type": "code",
   "execution_count": 130,
   "metadata": {},
   "outputs": [
    {
     "name": "stdout",
     "output_type": "stream",
     "text": [
      "Adaboost\n",
      "              precision    recall  f1-score   support\n",
      "\n",
      "           0       0.73      1.00      0.85       203\n",
      "           1       0.00      0.00      0.00        73\n",
      "\n",
      "    accuracy                           0.73       276\n",
      "   macro avg       0.37      0.50      0.42       276\n",
      "weighted avg       0.54      0.73      0.62       276\n",
      "\n"
     ]
    }
   ],
   "source": [
    "print(\"Adaboost\")\n",
    "report = classification_report(y_test,model.predict(x_test))\n",
    "print(report)"
   ]
  },
  {
   "cell_type": "code",
   "execution_count": 105,
   "metadata": {},
   "outputs": [
    {
     "name": "stderr",
     "output_type": "stream",
     "text": [
      "C:\\Users\\admin\\Anaconda2NDinstall\\lib\\site-packages\\sklearn\\svm\\base.py:193: FutureWarning: The default value of gamma will change from 'auto' to 'scale' in version 0.22 to account better for unscaled features. Set gamma explicitly to 'auto' or 'scale' to avoid this warning.\n",
      "  \"avoid this warning.\", FutureWarning)\n"
     ]
    },
    {
     "data": {
      "text/plain": [
       "0.9745454545454545"
      ]
     },
     "execution_count": 105,
     "metadata": {},
     "output_type": "execute_result"
    }
   ],
   "source": [
    "from sklearn.ensemble import VotingClassifier\n",
    "estimators =[]\n",
    "\n",
    "model1=KNeighborsClassifier(n_neighbors=3)\n",
    "estimators.append(('KNN',model1))\n",
    "\n",
    "model2=DecisionTreeClassifier()\n",
    "estimators.append(('cart',model2))\n",
    "\n",
    "model3=SVC()\n",
    "estimators.append(('SVM',model3))\n",
    "\n",
    "#create ensemble model\n",
    "\n",
    "ensemble=VotingClassifier(estimators)\n",
    "ec1f1=ensemble.fit(x_train,y_train)\n",
    "y1=ec1f1.predict(x_train)\n",
    "accuracy_score(y_train,y1)\n"
   ]
  },
  {
   "cell_type": "code",
   "execution_count": null,
   "metadata": {},
   "outputs": [],
   "source": []
  }
 ],
 "metadata": {
  "kernelspec": {
   "display_name": "Python 3",
   "language": "python",
   "name": "python3"
  },
  "language_info": {
   "codemirror_mode": {
    "name": "ipython",
    "version": 3
   },
   "file_extension": ".py",
   "mimetype": "text/x-python",
   "name": "python",
   "nbconvert_exporter": "python",
   "pygments_lexer": "ipython3",
   "version": "3.7.4"
  }
 },
 "nbformat": 4,
 "nbformat_minor": 2
}
